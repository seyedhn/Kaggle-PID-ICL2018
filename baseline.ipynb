{
 "cells": [
  {
   "cell_type": "markdown",
   "metadata": {},
   "source": [
    "# !Link to challenge!\n",
    "\n",
    "# https://www.kaggle.com/t/b3ced76a60b94572a90740756f778fc8"
   ]
  },
  {
   "cell_type": "markdown",
   "metadata": {},
   "source": [
    "### Metric\n",
    "\n",
    "For binary classification with a true label y $\\in \\{0,1\\}$ and a probability estimate p = $\\operatorname{Pr}(y = 1)$, the log loss per sample is the negative log-likelihood of the classifier given the true label:\n",
    "$$\n",
    "L_{\\log}(y, p) = -\\log \\operatorname{Pr}(y|p) = -(y \\log (p) + (1 - y) \\log (1 - p))$\n",
    "$$\n",
    "\n",
    "This extends to the multiclass case as follows. Let the true labels for a set of samples be encoded as a 1-of-K binary indicator matrix Y, i.e., $y_{i,k} = 1$ if sample i has label k taken from a set of K labels. Let P be a matrix of probability estimates, with $p_{i,k} = \\operatorname{Pr}(t_{i,k} = 1)$. Then the log loss of the whole set is\n",
    "\n",
    "$$\n",
    "L_{\\log}(Y, P) = -\\log \\operatorname{Pr}(Y|P) = - \\frac{1}{N} \\sum_{i=0}^{N-1} \\sum_{k=0}^{K-1} y_{i,k} \\log p_{i,k}\n",
    "$$"
   ]
  },
  {
   "cell_type": "markdown",
   "metadata": {},
   "source": [
    "# Grading"
   ]
  },
  {
   "cell_type": "markdown",
   "metadata": {},
   "source": [
    "#### Firstly, to get any mark, you must beat medium baseline score\n",
    "\n",
    "Your grade after challenge ends will be calculated as this:\n",
    "$$\n",
    "Grade = \\frac{score - mid\\_baseline\\_score}{\\#1\\_score - mid\\_baseline\\_score} * 10\n",
    "$$\n",
    "\n",
    "where score will be taken from private part results."
   ]
  },
  {
   "cell_type": "markdown",
   "metadata": {},
   "source": [
    "## About\n",
    "\n",
    "In this notebook we prepare a simple solution."
   ]
  },
  {
   "cell_type": "code",
   "execution_count": 1,
   "metadata": {
    "collapsed": true
   },
   "outputs": [],
   "source": [
    "import pandas as pd\n",
    "import numpy as np\n",
    "from sklearn.model_selection import train_test_split\n",
    "from sklearn.metrics import log_loss"
   ]
  },
  {
   "cell_type": "markdown",
   "metadata": {},
   "source": [
    "### Read training and test files"
   ]
  },
  {
   "cell_type": "code",
   "execution_count": 2,
   "metadata": {
    "collapsed": true
   },
   "outputs": [],
   "source": [
    "data = pd.read_csv('training.csv')\n",
    "test = pd.read_csv('test.csv')"
   ]
  },
  {
   "cell_type": "code",
   "execution_count": 3,
   "metadata": {},
   "outputs": [
    {
     "data": {
      "text/html": [
       "<div>\n",
       "<style>\n",
       "    .dataframe thead tr:only-child th {\n",
       "        text-align: right;\n",
       "    }\n",
       "\n",
       "    .dataframe thead th {\n",
       "        text-align: left;\n",
       "    }\n",
       "\n",
       "    .dataframe tbody tr th {\n",
       "        vertical-align: top;\n",
       "    }\n",
       "</style>\n",
       "<table border=\"1\" class=\"dataframe\">\n",
       "  <thead>\n",
       "    <tr style=\"text-align: right;\">\n",
       "      <th></th>\n",
       "      <th>TrackP</th>\n",
       "      <th>TrackNDoFSubdetector2</th>\n",
       "      <th>BremDLLbeElectron</th>\n",
       "      <th>MuonLooseFlag</th>\n",
       "      <th>FlagSpd</th>\n",
       "      <th>SpdE</th>\n",
       "      <th>EcalDLLbeElectron</th>\n",
       "      <th>DLLmuon</th>\n",
       "      <th>RICHpFlagElectron</th>\n",
       "      <th>EcalDLLbeMuon</th>\n",
       "      <th>...</th>\n",
       "      <th>TrackNDoF</th>\n",
       "      <th>RICHpFlagMuon</th>\n",
       "      <th>RICH_DLLbeKaon</th>\n",
       "      <th>RICH_DLLbeElectron</th>\n",
       "      <th>HcalE</th>\n",
       "      <th>MuonFlag</th>\n",
       "      <th>FlagMuon</th>\n",
       "      <th>PrsE</th>\n",
       "      <th>RICH_DLLbeMuon</th>\n",
       "      <th>RICH_DLLbeProton</th>\n",
       "    </tr>\n",
       "  </thead>\n",
       "  <tbody>\n",
       "    <tr>\n",
       "      <th>0</th>\n",
       "      <td>74791.156263</td>\n",
       "      <td>15.0</td>\n",
       "      <td>0.232275</td>\n",
       "      <td>1.0</td>\n",
       "      <td>1.0</td>\n",
       "      <td>3.2</td>\n",
       "      <td>-2.505719</td>\n",
       "      <td>6.604153</td>\n",
       "      <td>1.0</td>\n",
       "      <td>1.929960</td>\n",
       "      <td>...</td>\n",
       "      <td>28.0</td>\n",
       "      <td>1.0</td>\n",
       "      <td>-7.213300</td>\n",
       "      <td>-0.280200</td>\n",
       "      <td>5586.589846</td>\n",
       "      <td>1.0</td>\n",
       "      <td>1.0</td>\n",
       "      <td>10.422315</td>\n",
       "      <td>-2.081143e-07</td>\n",
       "      <td>-24.824400</td>\n",
       "    </tr>\n",
       "    <tr>\n",
       "      <th>1</th>\n",
       "      <td>2738.489989</td>\n",
       "      <td>15.0</td>\n",
       "      <td>-0.357748</td>\n",
       "      <td>0.0</td>\n",
       "      <td>1.0</td>\n",
       "      <td>3.2</td>\n",
       "      <td>1.864351</td>\n",
       "      <td>0.263651</td>\n",
       "      <td>1.0</td>\n",
       "      <td>-2.061959</td>\n",
       "      <td>...</td>\n",
       "      <td>32.0</td>\n",
       "      <td>1.0</td>\n",
       "      <td>-0.324317</td>\n",
       "      <td>1.707283</td>\n",
       "      <td>-0.000007</td>\n",
       "      <td>0.0</td>\n",
       "      <td>1.0</td>\n",
       "      <td>43.334935</td>\n",
       "      <td>2.771583e+00</td>\n",
       "      <td>-0.648017</td>\n",
       "    </tr>\n",
       "    <tr>\n",
       "      <th>2</th>\n",
       "      <td>2161.409908</td>\n",
       "      <td>17.0</td>\n",
       "      <td>-999.000000</td>\n",
       "      <td>0.0</td>\n",
       "      <td>0.0</td>\n",
       "      <td>-999.0</td>\n",
       "      <td>-999.000000</td>\n",
       "      <td>-999.000000</td>\n",
       "      <td>0.0</td>\n",
       "      <td>-999.000000</td>\n",
       "      <td>...</td>\n",
       "      <td>27.0</td>\n",
       "      <td>0.0</td>\n",
       "      <td>-999.000000</td>\n",
       "      <td>-999.000000</td>\n",
       "      <td>-999.000000</td>\n",
       "      <td>0.0</td>\n",
       "      <td>0.0</td>\n",
       "      <td>-999.000000</td>\n",
       "      <td>-9.990000e+02</td>\n",
       "      <td>-999.000000</td>\n",
       "    </tr>\n",
       "    <tr>\n",
       "      <th>3</th>\n",
       "      <td>15277.730490</td>\n",
       "      <td>20.0</td>\n",
       "      <td>-0.638984</td>\n",
       "      <td>0.0</td>\n",
       "      <td>1.0</td>\n",
       "      <td>3.2</td>\n",
       "      <td>-2.533918</td>\n",
       "      <td>-8.724949</td>\n",
       "      <td>1.0</td>\n",
       "      <td>-3.253981</td>\n",
       "      <td>...</td>\n",
       "      <td>36.0</td>\n",
       "      <td>1.0</td>\n",
       "      <td>-35.202221</td>\n",
       "      <td>-14.742319</td>\n",
       "      <td>4482.803707</td>\n",
       "      <td>0.0</td>\n",
       "      <td>1.0</td>\n",
       "      <td>2.194175</td>\n",
       "      <td>-3.070819e+00</td>\n",
       "      <td>-29.291519</td>\n",
       "    </tr>\n",
       "    <tr>\n",
       "      <th>4</th>\n",
       "      <td>7563.700195</td>\n",
       "      <td>19.0</td>\n",
       "      <td>-0.638962</td>\n",
       "      <td>0.0</td>\n",
       "      <td>1.0</td>\n",
       "      <td>3.2</td>\n",
       "      <td>-2.087146</td>\n",
       "      <td>-7.060422</td>\n",
       "      <td>1.0</td>\n",
       "      <td>-0.995816</td>\n",
       "      <td>...</td>\n",
       "      <td>33.0</td>\n",
       "      <td>1.0</td>\n",
       "      <td>25.084287</td>\n",
       "      <td>-10.272412</td>\n",
       "      <td>5107.554680</td>\n",
       "      <td>0.0</td>\n",
       "      <td>1.0</td>\n",
       "      <td>0.000015</td>\n",
       "      <td>-5.373712e+00</td>\n",
       "      <td>23.653087</td>\n",
       "    </tr>\n",
       "  </tbody>\n",
       "</table>\n",
       "<p>5 rows × 50 columns</p>\n",
       "</div>"
      ],
      "text/plain": [
       "         TrackP  TrackNDoFSubdetector2  BremDLLbeElectron  MuonLooseFlag  \\\n",
       "0  74791.156263                   15.0           0.232275            1.0   \n",
       "1   2738.489989                   15.0          -0.357748            0.0   \n",
       "2   2161.409908                   17.0        -999.000000            0.0   \n",
       "3  15277.730490                   20.0          -0.638984            0.0   \n",
       "4   7563.700195                   19.0          -0.638962            0.0   \n",
       "\n",
       "   FlagSpd   SpdE  EcalDLLbeElectron     DLLmuon  RICHpFlagElectron  \\\n",
       "0      1.0    3.2          -2.505719    6.604153                1.0   \n",
       "1      1.0    3.2           1.864351    0.263651                1.0   \n",
       "2      0.0 -999.0        -999.000000 -999.000000                0.0   \n",
       "3      1.0    3.2          -2.533918   -8.724949                1.0   \n",
       "4      1.0    3.2          -2.087146   -7.060422                1.0   \n",
       "\n",
       "   EcalDLLbeMuon        ...         TrackNDoF  RICHpFlagMuon  RICH_DLLbeKaon  \\\n",
       "0       1.929960        ...              28.0            1.0       -7.213300   \n",
       "1      -2.061959        ...              32.0            1.0       -0.324317   \n",
       "2    -999.000000        ...              27.0            0.0     -999.000000   \n",
       "3      -3.253981        ...              36.0            1.0      -35.202221   \n",
       "4      -0.995816        ...              33.0            1.0       25.084287   \n",
       "\n",
       "   RICH_DLLbeElectron        HcalE  MuonFlag  FlagMuon        PrsE  \\\n",
       "0           -0.280200  5586.589846       1.0       1.0   10.422315   \n",
       "1            1.707283    -0.000007       0.0       1.0   43.334935   \n",
       "2         -999.000000  -999.000000       0.0       0.0 -999.000000   \n",
       "3          -14.742319  4482.803707       0.0       1.0    2.194175   \n",
       "4          -10.272412  5107.554680       0.0       1.0    0.000015   \n",
       "\n",
       "   RICH_DLLbeMuon  RICH_DLLbeProton  \n",
       "0   -2.081143e-07        -24.824400  \n",
       "1    2.771583e+00         -0.648017  \n",
       "2   -9.990000e+02       -999.000000  \n",
       "3   -3.070819e+00        -29.291519  \n",
       "4   -5.373712e+00         23.653087  \n",
       "\n",
       "[5 rows x 50 columns]"
      ]
     },
     "execution_count": 3,
     "metadata": {},
     "output_type": "execute_result"
    }
   ],
   "source": [
    "data.head()"
   ]
  },
  {
   "cell_type": "code",
   "execution_count": 4,
   "metadata": {
    "scrolled": true
   },
   "outputs": [
    {
     "data": {
      "text/plain": [
       "2         Ghost\n",
       "111       Ghost\n",
       "125        Kaon\n",
       "139      Proton\n",
       "268    Electron\n",
       "Name: Label, dtype: object"
      ]
     },
     "execution_count": 4,
     "metadata": {},
     "output_type": "execute_result"
    }
   ],
   "source": [
    "data[data.DLLmuon < -998].Label.head()"
   ]
  },
  {
   "cell_type": "code",
   "execution_count": 5,
   "metadata": {},
   "outputs": [
    {
     "data": {
      "text/html": [
       "<div>\n",
       "<style>\n",
       "    .dataframe thead tr:only-child th {\n",
       "        text-align: right;\n",
       "    }\n",
       "\n",
       "    .dataframe thead th {\n",
       "        text-align: left;\n",
       "    }\n",
       "\n",
       "    .dataframe tbody tr th {\n",
       "        vertical-align: top;\n",
       "    }\n",
       "</style>\n",
       "<table border=\"1\" class=\"dataframe\">\n",
       "  <thead>\n",
       "    <tr style=\"text-align: right;\">\n",
       "      <th></th>\n",
       "      <th>TrackP</th>\n",
       "      <th>TrackNDoFSubdetector2</th>\n",
       "      <th>BremDLLbeElectron</th>\n",
       "      <th>MuonLooseFlag</th>\n",
       "      <th>FlagSpd</th>\n",
       "      <th>SpdE</th>\n",
       "      <th>EcalDLLbeElectron</th>\n",
       "      <th>DLLmuon</th>\n",
       "      <th>RICHpFlagElectron</th>\n",
       "      <th>EcalDLLbeMuon</th>\n",
       "      <th>...</th>\n",
       "      <th>RICHpFlagMuon</th>\n",
       "      <th>RICH_DLLbeKaon</th>\n",
       "      <th>RICH_DLLbeElectron</th>\n",
       "      <th>HcalE</th>\n",
       "      <th>MuonFlag</th>\n",
       "      <th>FlagMuon</th>\n",
       "      <th>PrsE</th>\n",
       "      <th>RICH_DLLbeMuon</th>\n",
       "      <th>RICH_DLLbeProton</th>\n",
       "      <th>ID</th>\n",
       "    </tr>\n",
       "  </thead>\n",
       "  <tbody>\n",
       "    <tr>\n",
       "      <th>0</th>\n",
       "      <td>55086.199233</td>\n",
       "      <td>18.0</td>\n",
       "      <td>-0.438763</td>\n",
       "      <td>0.0</td>\n",
       "      <td>1.0</td>\n",
       "      <td>3.2</td>\n",
       "      <td>-1.843821</td>\n",
       "      <td>-4.579244</td>\n",
       "      <td>1.0</td>\n",
       "      <td>-1.732886</td>\n",
       "      <td>...</td>\n",
       "      <td>1.0</td>\n",
       "      <td>18.674086</td>\n",
       "      <td>-1.355015</td>\n",
       "      <td>24510.990244</td>\n",
       "      <td>0.0</td>\n",
       "      <td>1.0</td>\n",
       "      <td>9.325265</td>\n",
       "      <td>-0.250015</td>\n",
       "      <td>35.408585</td>\n",
       "      <td>0</td>\n",
       "    </tr>\n",
       "    <tr>\n",
       "      <th>1</th>\n",
       "      <td>3393.820071</td>\n",
       "      <td>17.0</td>\n",
       "      <td>-0.554341</td>\n",
       "      <td>0.0</td>\n",
       "      <td>1.0</td>\n",
       "      <td>0.0</td>\n",
       "      <td>-0.883237</td>\n",
       "      <td>-6.203035</td>\n",
       "      <td>1.0</td>\n",
       "      <td>-0.097206</td>\n",
       "      <td>...</td>\n",
       "      <td>1.0</td>\n",
       "      <td>16.536804</td>\n",
       "      <td>-17.601196</td>\n",
       "      <td>778.675303</td>\n",
       "      <td>0.0</td>\n",
       "      <td>1.0</td>\n",
       "      <td>-0.000006</td>\n",
       "      <td>-6.646096</td>\n",
       "      <td>14.011904</td>\n",
       "      <td>1</td>\n",
       "    </tr>\n",
       "    <tr>\n",
       "      <th>2</th>\n",
       "      <td>18341.359361</td>\n",
       "      <td>12.0</td>\n",
       "      <td>-0.554339</td>\n",
       "      <td>0.0</td>\n",
       "      <td>1.0</td>\n",
       "      <td>0.0</td>\n",
       "      <td>-2.653786</td>\n",
       "      <td>-3.922639</td>\n",
       "      <td>1.0</td>\n",
       "      <td>0.936484</td>\n",
       "      <td>...</td>\n",
       "      <td>1.0</td>\n",
       "      <td>-1.306109</td>\n",
       "      <td>-4.536409</td>\n",
       "      <td>7915.212420</td>\n",
       "      <td>0.0</td>\n",
       "      <td>1.0</td>\n",
       "      <td>1.371346</td>\n",
       "      <td>-2.132609</td>\n",
       "      <td>-5.617409</td>\n",
       "      <td>2</td>\n",
       "    </tr>\n",
       "    <tr>\n",
       "      <th>3</th>\n",
       "      <td>27486.710933</td>\n",
       "      <td>7.0</td>\n",
       "      <td>-0.492411</td>\n",
       "      <td>1.0</td>\n",
       "      <td>1.0</td>\n",
       "      <td>3.2</td>\n",
       "      <td>-999.000000</td>\n",
       "      <td>2.034453</td>\n",
       "      <td>1.0</td>\n",
       "      <td>-999.000000</td>\n",
       "      <td>...</td>\n",
       "      <td>1.0</td>\n",
       "      <td>-4.222793</td>\n",
       "      <td>3.149207</td>\n",
       "      <td>-999.000000</td>\n",
       "      <td>1.0</td>\n",
       "      <td>1.0</td>\n",
       "      <td>61.985428</td>\n",
       "      <td>0.946207</td>\n",
       "      <td>-8.657193</td>\n",
       "      <td>3</td>\n",
       "    </tr>\n",
       "    <tr>\n",
       "      <th>4</th>\n",
       "      <td>6842.249996</td>\n",
       "      <td>16.0</td>\n",
       "      <td>0.098706</td>\n",
       "      <td>0.0</td>\n",
       "      <td>1.0</td>\n",
       "      <td>3.2</td>\n",
       "      <td>2.644499</td>\n",
       "      <td>-1.471364</td>\n",
       "      <td>1.0</td>\n",
       "      <td>-2.909470</td>\n",
       "      <td>...</td>\n",
       "      <td>1.0</td>\n",
       "      <td>-3.425113</td>\n",
       "      <td>23.147387</td>\n",
       "      <td>-0.000013</td>\n",
       "      <td>0.0</td>\n",
       "      <td>1.0</td>\n",
       "      <td>2.468453</td>\n",
       "      <td>2.614987</td>\n",
       "      <td>-5.713513</td>\n",
       "      <td>4</td>\n",
       "    </tr>\n",
       "  </tbody>\n",
       "</table>\n",
       "<p>5 rows × 50 columns</p>\n",
       "</div>"
      ],
      "text/plain": [
       "         TrackP  TrackNDoFSubdetector2  BremDLLbeElectron  MuonLooseFlag  \\\n",
       "0  55086.199233                   18.0          -0.438763            0.0   \n",
       "1   3393.820071                   17.0          -0.554341            0.0   \n",
       "2  18341.359361                   12.0          -0.554339            0.0   \n",
       "3  27486.710933                    7.0          -0.492411            1.0   \n",
       "4   6842.249996                   16.0           0.098706            0.0   \n",
       "\n",
       "   FlagSpd  SpdE  EcalDLLbeElectron   DLLmuon  RICHpFlagElectron  \\\n",
       "0      1.0   3.2          -1.843821 -4.579244                1.0   \n",
       "1      1.0   0.0          -0.883237 -6.203035                1.0   \n",
       "2      1.0   0.0          -2.653786 -3.922639                1.0   \n",
       "3      1.0   3.2        -999.000000  2.034453                1.0   \n",
       "4      1.0   3.2           2.644499 -1.471364                1.0   \n",
       "\n",
       "   EcalDLLbeMuon ...  RICHpFlagMuon  RICH_DLLbeKaon  RICH_DLLbeElectron  \\\n",
       "0      -1.732886 ...            1.0       18.674086           -1.355015   \n",
       "1      -0.097206 ...            1.0       16.536804          -17.601196   \n",
       "2       0.936484 ...            1.0       -1.306109           -4.536409   \n",
       "3    -999.000000 ...            1.0       -4.222793            3.149207   \n",
       "4      -2.909470 ...            1.0       -3.425113           23.147387   \n",
       "\n",
       "          HcalE  MuonFlag  FlagMuon       PrsE  RICH_DLLbeMuon  \\\n",
       "0  24510.990244       0.0       1.0   9.325265       -0.250015   \n",
       "1    778.675303       0.0       1.0  -0.000006       -6.646096   \n",
       "2   7915.212420       0.0       1.0   1.371346       -2.132609   \n",
       "3   -999.000000       1.0       1.0  61.985428        0.946207   \n",
       "4     -0.000013       0.0       1.0   2.468453        2.614987   \n",
       "\n",
       "   RICH_DLLbeProton  ID  \n",
       "0         35.408585   0  \n",
       "1         14.011904   1  \n",
       "2         -5.617409   2  \n",
       "3         -8.657193   3  \n",
       "4         -5.713513   4  \n",
       "\n",
       "[5 rows x 50 columns]"
      ]
     },
     "execution_count": 5,
     "metadata": {},
     "output_type": "execute_result"
    }
   ],
   "source": [
    "test.head()"
   ]
  },
  {
   "cell_type": "code",
   "execution_count": 23,
   "metadata": {},
   "outputs": [
    {
     "data": {
      "text/plain": [
       "(1200000, 50)"
      ]
     },
     "execution_count": 23,
     "metadata": {},
     "output_type": "execute_result"
    }
   ],
   "source": [
    "data.shape"
   ]
  },
  {
   "cell_type": "code",
   "execution_count": 27,
   "metadata": {},
   "outputs": [
    {
     "data": {
      "text/html": [
       "<div>\n",
       "<style>\n",
       "    .dataframe thead tr:only-child th {\n",
       "        text-align: right;\n",
       "    }\n",
       "\n",
       "    .dataframe thead th {\n",
       "        text-align: left;\n",
       "    }\n",
       "\n",
       "    .dataframe tbody tr th {\n",
       "        vertical-align: top;\n",
       "    }\n",
       "</style>\n",
       "<table border=\"1\" class=\"dataframe\">\n",
       "  <thead>\n",
       "    <tr style=\"text-align: right;\">\n",
       "      <th></th>\n",
       "      <th>TrackP</th>\n",
       "      <th>TrackNDoFSubdetector2</th>\n",
       "      <th>BremDLLbeElectron</th>\n",
       "      <th>MuonLooseFlag</th>\n",
       "      <th>FlagSpd</th>\n",
       "      <th>SpdE</th>\n",
       "      <th>EcalDLLbeElectron</th>\n",
       "      <th>DLLmuon</th>\n",
       "      <th>RICHpFlagElectron</th>\n",
       "      <th>EcalDLLbeMuon</th>\n",
       "      <th>...</th>\n",
       "      <th>TrackNDoF</th>\n",
       "      <th>RICHpFlagMuon</th>\n",
       "      <th>RICH_DLLbeKaon</th>\n",
       "      <th>RICH_DLLbeElectron</th>\n",
       "      <th>HcalE</th>\n",
       "      <th>MuonFlag</th>\n",
       "      <th>FlagMuon</th>\n",
       "      <th>PrsE</th>\n",
       "      <th>RICH_DLLbeMuon</th>\n",
       "      <th>RICH_DLLbeProton</th>\n",
       "    </tr>\n",
       "  </thead>\n",
       "  <tbody>\n",
       "    <tr>\n",
       "      <th>0</th>\n",
       "      <td>74791.156263</td>\n",
       "      <td>15.0</td>\n",
       "      <td>0.232275</td>\n",
       "      <td>1.0</td>\n",
       "      <td>1.0</td>\n",
       "      <td>3.2</td>\n",
       "      <td>-2.505719</td>\n",
       "      <td>6.604153</td>\n",
       "      <td>1.0</td>\n",
       "      <td>1.929960</td>\n",
       "      <td>...</td>\n",
       "      <td>28.0</td>\n",
       "      <td>1.0</td>\n",
       "      <td>-7.213300</td>\n",
       "      <td>-0.280200</td>\n",
       "      <td>5586.589846</td>\n",
       "      <td>1.0</td>\n",
       "      <td>1.0</td>\n",
       "      <td>10.422315</td>\n",
       "      <td>-2.081143e-07</td>\n",
       "      <td>-24.824400</td>\n",
       "    </tr>\n",
       "    <tr>\n",
       "      <th>1</th>\n",
       "      <td>2738.489989</td>\n",
       "      <td>15.0</td>\n",
       "      <td>-0.357748</td>\n",
       "      <td>0.0</td>\n",
       "      <td>1.0</td>\n",
       "      <td>3.2</td>\n",
       "      <td>1.864351</td>\n",
       "      <td>0.263651</td>\n",
       "      <td>1.0</td>\n",
       "      <td>-2.061959</td>\n",
       "      <td>...</td>\n",
       "      <td>32.0</td>\n",
       "      <td>1.0</td>\n",
       "      <td>-0.324317</td>\n",
       "      <td>1.707283</td>\n",
       "      <td>-0.000007</td>\n",
       "      <td>0.0</td>\n",
       "      <td>1.0</td>\n",
       "      <td>43.334935</td>\n",
       "      <td>2.771583e+00</td>\n",
       "      <td>-0.648017</td>\n",
       "    </tr>\n",
       "    <tr>\n",
       "      <th>2</th>\n",
       "      <td>2161.409908</td>\n",
       "      <td>17.0</td>\n",
       "      <td>-999.000000</td>\n",
       "      <td>0.0</td>\n",
       "      <td>0.0</td>\n",
       "      <td>-999.0</td>\n",
       "      <td>-999.000000</td>\n",
       "      <td>-999.000000</td>\n",
       "      <td>0.0</td>\n",
       "      <td>-999.000000</td>\n",
       "      <td>...</td>\n",
       "      <td>27.0</td>\n",
       "      <td>0.0</td>\n",
       "      <td>-999.000000</td>\n",
       "      <td>-999.000000</td>\n",
       "      <td>-999.000000</td>\n",
       "      <td>0.0</td>\n",
       "      <td>0.0</td>\n",
       "      <td>-999.000000</td>\n",
       "      <td>-9.990000e+02</td>\n",
       "      <td>-999.000000</td>\n",
       "    </tr>\n",
       "    <tr>\n",
       "      <th>3</th>\n",
       "      <td>15277.730490</td>\n",
       "      <td>20.0</td>\n",
       "      <td>-0.638984</td>\n",
       "      <td>0.0</td>\n",
       "      <td>1.0</td>\n",
       "      <td>3.2</td>\n",
       "      <td>-2.533918</td>\n",
       "      <td>-8.724949</td>\n",
       "      <td>1.0</td>\n",
       "      <td>-3.253981</td>\n",
       "      <td>...</td>\n",
       "      <td>36.0</td>\n",
       "      <td>1.0</td>\n",
       "      <td>-35.202221</td>\n",
       "      <td>-14.742319</td>\n",
       "      <td>4482.803707</td>\n",
       "      <td>0.0</td>\n",
       "      <td>1.0</td>\n",
       "      <td>2.194175</td>\n",
       "      <td>-3.070819e+00</td>\n",
       "      <td>-29.291519</td>\n",
       "    </tr>\n",
       "    <tr>\n",
       "      <th>4</th>\n",
       "      <td>7563.700195</td>\n",
       "      <td>19.0</td>\n",
       "      <td>-0.638962</td>\n",
       "      <td>0.0</td>\n",
       "      <td>1.0</td>\n",
       "      <td>3.2</td>\n",
       "      <td>-2.087146</td>\n",
       "      <td>-7.060422</td>\n",
       "      <td>1.0</td>\n",
       "      <td>-0.995816</td>\n",
       "      <td>...</td>\n",
       "      <td>33.0</td>\n",
       "      <td>1.0</td>\n",
       "      <td>25.084287</td>\n",
       "      <td>-10.272412</td>\n",
       "      <td>5107.554680</td>\n",
       "      <td>0.0</td>\n",
       "      <td>1.0</td>\n",
       "      <td>0.000015</td>\n",
       "      <td>-5.373712e+00</td>\n",
       "      <td>23.653087</td>\n",
       "    </tr>\n",
       "    <tr>\n",
       "      <th>5</th>\n",
       "      <td>62641.621090</td>\n",
       "      <td>17.0</td>\n",
       "      <td>0.976355</td>\n",
       "      <td>0.0</td>\n",
       "      <td>1.0</td>\n",
       "      <td>3.2</td>\n",
       "      <td>-2.649216</td>\n",
       "      <td>-3.767491</td>\n",
       "      <td>1.0</td>\n",
       "      <td>1.282086</td>\n",
       "      <td>...</td>\n",
       "      <td>40.0</td>\n",
       "      <td>1.0</td>\n",
       "      <td>29.475203</td>\n",
       "      <td>-3.059098</td>\n",
       "      <td>20529.441404</td>\n",
       "      <td>0.0</td>\n",
       "      <td>1.0</td>\n",
       "      <td>2.468433</td>\n",
       "      <td>-1.194598e+00</td>\n",
       "      <td>1.010202</td>\n",
       "    </tr>\n",
       "    <tr>\n",
       "      <th>6</th>\n",
       "      <td>18872.810570</td>\n",
       "      <td>14.0</td>\n",
       "      <td>2.345886</td>\n",
       "      <td>0.0</td>\n",
       "      <td>1.0</td>\n",
       "      <td>3.2</td>\n",
       "      <td>-3.027858</td>\n",
       "      <td>-5.173245</td>\n",
       "      <td>1.0</td>\n",
       "      <td>0.750181</td>\n",
       "      <td>...</td>\n",
       "      <td>26.0</td>\n",
       "      <td>1.0</td>\n",
       "      <td>26.711504</td>\n",
       "      <td>-3.326296</td>\n",
       "      <td>19248.388672</td>\n",
       "      <td>0.0</td>\n",
       "      <td>1.0</td>\n",
       "      <td>2.742722</td>\n",
       "      <td>-1.859796e+00</td>\n",
       "      <td>13.021704</td>\n",
       "    </tr>\n",
       "    <tr>\n",
       "      <th>7</th>\n",
       "      <td>1993.550048</td>\n",
       "      <td>3.0</td>\n",
       "      <td>0.170659</td>\n",
       "      <td>0.0</td>\n",
       "      <td>1.0</td>\n",
       "      <td>0.0</td>\n",
       "      <td>1.864349</td>\n",
       "      <td>0.101000</td>\n",
       "      <td>1.0</td>\n",
       "      <td>0.382705</td>\n",
       "      <td>...</td>\n",
       "      <td>13.0</td>\n",
       "      <td>0.0</td>\n",
       "      <td>0.000006</td>\n",
       "      <td>-37.474493</td>\n",
       "      <td>694.306640</td>\n",
       "      <td>0.0</td>\n",
       "      <td>1.0</td>\n",
       "      <td>-0.000015</td>\n",
       "      <td>-2.448940e-01</td>\n",
       "      <td>0.000006</td>\n",
       "    </tr>\n",
       "    <tr>\n",
       "      <th>8</th>\n",
       "      <td>90635.296871</td>\n",
       "      <td>8.0</td>\n",
       "      <td>-999.000000</td>\n",
       "      <td>0.0</td>\n",
       "      <td>1.0</td>\n",
       "      <td>3.2</td>\n",
       "      <td>-999.000000</td>\n",
       "      <td>0.000002</td>\n",
       "      <td>1.0</td>\n",
       "      <td>-999.000000</td>\n",
       "      <td>...</td>\n",
       "      <td>22.0</td>\n",
       "      <td>1.0</td>\n",
       "      <td>-1.552902</td>\n",
       "      <td>0.561498</td>\n",
       "      <td>-999.000000</td>\n",
       "      <td>0.0</td>\n",
       "      <td>1.0</td>\n",
       "      <td>119.856750</td>\n",
       "      <td>8.879832e-02</td>\n",
       "      <td>-3.197502</td>\n",
       "    </tr>\n",
       "    <tr>\n",
       "      <th>9</th>\n",
       "      <td>11633.669941</td>\n",
       "      <td>16.0</td>\n",
       "      <td>0.976349</td>\n",
       "      <td>0.0</td>\n",
       "      <td>1.0</td>\n",
       "      <td>0.0</td>\n",
       "      <td>-2.479154</td>\n",
       "      <td>-0.631769</td>\n",
       "      <td>1.0</td>\n",
       "      <td>0.449661</td>\n",
       "      <td>...</td>\n",
       "      <td>28.0</td>\n",
       "      <td>1.0</td>\n",
       "      <td>9.489098</td>\n",
       "      <td>-0.643303</td>\n",
       "      <td>913.806574</td>\n",
       "      <td>0.0</td>\n",
       "      <td>1.0</td>\n",
       "      <td>22.764572</td>\n",
       "      <td>-2.466028e-01</td>\n",
       "      <td>9.954897</td>\n",
       "    </tr>\n",
       "    <tr>\n",
       "      <th>10</th>\n",
       "      <td>3432.929934</td>\n",
       "      <td>8.0</td>\n",
       "      <td>-0.542416</td>\n",
       "      <td>0.0</td>\n",
       "      <td>1.0</td>\n",
       "      <td>0.0</td>\n",
       "      <td>-999.000000</td>\n",
       "      <td>6.701406</td>\n",
       "      <td>1.0</td>\n",
       "      <td>-999.000000</td>\n",
       "      <td>...</td>\n",
       "      <td>27.0</td>\n",
       "      <td>1.0</td>\n",
       "      <td>5.715908</td>\n",
       "      <td>-9.147492</td>\n",
       "      <td>-999.000000</td>\n",
       "      <td>0.0</td>\n",
       "      <td>0.0</td>\n",
       "      <td>2.742733</td>\n",
       "      <td>3.250301e+01</td>\n",
       "      <td>6.394708</td>\n",
       "    </tr>\n",
       "  </tbody>\n",
       "</table>\n",
       "<p>11 rows × 50 columns</p>\n",
       "</div>"
      ],
      "text/plain": [
       "          TrackP  TrackNDoFSubdetector2  BremDLLbeElectron  MuonLooseFlag  \\\n",
       "0   74791.156263                   15.0           0.232275            1.0   \n",
       "1    2738.489989                   15.0          -0.357748            0.0   \n",
       "2    2161.409908                   17.0        -999.000000            0.0   \n",
       "3   15277.730490                   20.0          -0.638984            0.0   \n",
       "4    7563.700195                   19.0          -0.638962            0.0   \n",
       "5   62641.621090                   17.0           0.976355            0.0   \n",
       "6   18872.810570                   14.0           2.345886            0.0   \n",
       "7    1993.550048                    3.0           0.170659            0.0   \n",
       "8   90635.296871                    8.0        -999.000000            0.0   \n",
       "9   11633.669941                   16.0           0.976349            0.0   \n",
       "10   3432.929934                    8.0          -0.542416            0.0   \n",
       "\n",
       "    FlagSpd   SpdE  EcalDLLbeElectron     DLLmuon  RICHpFlagElectron  \\\n",
       "0       1.0    3.2          -2.505719    6.604153                1.0   \n",
       "1       1.0    3.2           1.864351    0.263651                1.0   \n",
       "2       0.0 -999.0        -999.000000 -999.000000                0.0   \n",
       "3       1.0    3.2          -2.533918   -8.724949                1.0   \n",
       "4       1.0    3.2          -2.087146   -7.060422                1.0   \n",
       "5       1.0    3.2          -2.649216   -3.767491                1.0   \n",
       "6       1.0    3.2          -3.027858   -5.173245                1.0   \n",
       "7       1.0    0.0           1.864349    0.101000                1.0   \n",
       "8       1.0    3.2        -999.000000    0.000002                1.0   \n",
       "9       1.0    0.0          -2.479154   -0.631769                1.0   \n",
       "10      1.0    0.0        -999.000000    6.701406                1.0   \n",
       "\n",
       "    EcalDLLbeMuon        ...         TrackNDoF  RICHpFlagMuon  RICH_DLLbeKaon  \\\n",
       "0        1.929960        ...              28.0            1.0       -7.213300   \n",
       "1       -2.061959        ...              32.0            1.0       -0.324317   \n",
       "2     -999.000000        ...              27.0            0.0     -999.000000   \n",
       "3       -3.253981        ...              36.0            1.0      -35.202221   \n",
       "4       -0.995816        ...              33.0            1.0       25.084287   \n",
       "5        1.282086        ...              40.0            1.0       29.475203   \n",
       "6        0.750181        ...              26.0            1.0       26.711504   \n",
       "7        0.382705        ...              13.0            0.0        0.000006   \n",
       "8     -999.000000        ...              22.0            1.0       -1.552902   \n",
       "9        0.449661        ...              28.0            1.0        9.489098   \n",
       "10    -999.000000        ...              27.0            1.0        5.715908   \n",
       "\n",
       "    RICH_DLLbeElectron         HcalE  MuonFlag  FlagMuon        PrsE  \\\n",
       "0            -0.280200   5586.589846       1.0       1.0   10.422315   \n",
       "1             1.707283     -0.000007       0.0       1.0   43.334935   \n",
       "2          -999.000000   -999.000000       0.0       0.0 -999.000000   \n",
       "3           -14.742319   4482.803707       0.0       1.0    2.194175   \n",
       "4           -10.272412   5107.554680       0.0       1.0    0.000015   \n",
       "5            -3.059098  20529.441404       0.0       1.0    2.468433   \n",
       "6            -3.326296  19248.388672       0.0       1.0    2.742722   \n",
       "7           -37.474493    694.306640       0.0       1.0   -0.000015   \n",
       "8             0.561498   -999.000000       0.0       1.0  119.856750   \n",
       "9            -0.643303    913.806574       0.0       1.0   22.764572   \n",
       "10           -9.147492   -999.000000       0.0       0.0    2.742733   \n",
       "\n",
       "    RICH_DLLbeMuon  RICH_DLLbeProton  \n",
       "0    -2.081143e-07        -24.824400  \n",
       "1     2.771583e+00         -0.648017  \n",
       "2    -9.990000e+02       -999.000000  \n",
       "3    -3.070819e+00        -29.291519  \n",
       "4    -5.373712e+00         23.653087  \n",
       "5    -1.194598e+00          1.010202  \n",
       "6    -1.859796e+00         13.021704  \n",
       "7    -2.448940e-01          0.000006  \n",
       "8     8.879832e-02         -3.197502  \n",
       "9    -2.466028e-01          9.954897  \n",
       "10    3.250301e+01          6.394708  \n",
       "\n",
       "[11 rows x 50 columns]"
      ]
     },
     "execution_count": 27,
     "metadata": {},
     "output_type": "execute_result"
    }
   ],
   "source": [
    "data.loc[:10]"
   ]
  },
  {
   "cell_type": "code",
   "execution_count": 33,
   "metadata": {},
   "outputs": [
    {
     "ename": "SyntaxError",
     "evalue": "invalid syntax (<ipython-input-33-b412d1fa5ca6>, line 1)",
     "output_type": "error",
     "traceback": [
      "\u001b[0;36m  File \u001b[0;32m\"<ipython-input-33-b412d1fa5ca6>\"\u001b[0;36m, line \u001b[0;32m1\u001b[0m\n\u001b[0;31m    data.loc[(data.BremDLLbeElectron < -998 np.logical_or data.SpdE < -998 np.logical_or data.EcalDLLbeElectron < -998 np.logical_or data.DLLmuon< -998)]\u001b[0m\n\u001b[0m                                             ^\u001b[0m\n\u001b[0;31mSyntaxError\u001b[0m\u001b[0;31m:\u001b[0m invalid syntax\n"
     ]
    }
   ],
   "source": [
    "data.loc[(data.BremDLLbeElectron < -998 np.logical_or data.SpdE < -998 np.logical_or data.EcalDLLbeElectron < -998 np.logical_or data.DLLmuon< -998)]"
   ]
  },
  {
   "cell_type": "markdown",
   "metadata": {},
   "source": [
    "### Look at the labels set"
   ]
  },
  {
   "cell_type": "code",
   "execution_count": 7,
   "metadata": {},
   "outputs": [
    {
     "data": {
      "text/plain": [
       "{'Electron', 'Ghost', 'Kaon', 'Muon', 'Pion', 'Proton'}"
      ]
     },
     "execution_count": 7,
     "metadata": {},
     "output_type": "execute_result"
    }
   ],
   "source": [
    "set(data.Label)"
   ]
  },
  {
   "cell_type": "markdown",
   "metadata": {},
   "source": [
    "### Define training features\n",
    "\n",
    "Exclude `Label` from the features set"
   ]
  },
  {
   "cell_type": "code",
   "execution_count": 8,
   "metadata": {},
   "outputs": [
    {
     "data": {
      "text/plain": [
       "['TrackNDoFSubdetector1',\n",
       " 'RICH_DLLbeProton',\n",
       " 'TrackNDoFSubdetector2',\n",
       " 'DLLmuon',\n",
       " 'FlagRICH1',\n",
       " 'FlagSpd',\n",
       " 'FlagRICH2',\n",
       " 'DLLelectron',\n",
       " 'GhostProbability',\n",
       " 'TrackP',\n",
       " 'RICHpFlagProton',\n",
       " 'TrackDistanceToZ',\n",
       " 'HcalDLLbeElectron',\n",
       " 'TrackQualityPerNDoF',\n",
       " 'FlagPrs',\n",
       " 'TrackNDoF',\n",
       " 'MuonLLbeMuon',\n",
       " 'FlagBrem',\n",
       " 'EcalDLLbeElectron',\n",
       " 'EcalDLLbeMuon',\n",
       " 'FlagHcal',\n",
       " 'EcalShowerLongitudinalParameter',\n",
       " 'RICHpFlagKaon',\n",
       " 'MuonLLbeBCK',\n",
       " 'Calo3dFitQuality',\n",
       " 'FlagMuon',\n",
       " 'BremDLLbeElectron',\n",
       " 'MuonFlag',\n",
       " 'MuonLooseFlag',\n",
       " 'DLLproton',\n",
       " 'RICH_DLLbeMuon',\n",
       " 'RICH_DLLbeKaon',\n",
       " 'PrsDLLbeElectron',\n",
       " 'DLLkaon',\n",
       " 'EcalE',\n",
       " 'FlagEcal',\n",
       " 'RICHpFlagElectron',\n",
       " 'Calo2dFitQuality',\n",
       " 'HcalE',\n",
       " 'TrackQualitySubdetector1',\n",
       " 'PrsE',\n",
       " 'HcalDLLbeMuon',\n",
       " 'RICH_DLLbeElectron',\n",
       " 'RICH_DLLbeBCK',\n",
       " 'TrackPt',\n",
       " 'RICHpFlagMuon',\n",
       " 'TrackQualitySubdetector2',\n",
       " 'RICHpFlagPion',\n",
       " 'SpdE']"
      ]
     },
     "execution_count": 8,
     "metadata": {},
     "output_type": "execute_result"
    }
   ],
   "source": [
    "features = list(set(data.columns) - {'Label'})\n",
    "features"
   ]
  },
  {
   "cell_type": "markdown",
   "metadata": {},
   "source": [
    "### Divide training data into 2 parts"
   ]
  },
  {
   "cell_type": "code",
   "execution_count": 10,
   "metadata": {},
   "outputs": [],
   "source": [
    "training_data, validation_data = train_test_split(data, random_state=11, train_size=0.10, test_size = 0.9)"
   ]
  },
  {
   "cell_type": "code",
   "execution_count": 11,
   "metadata": {},
   "outputs": [
    {
     "data": {
      "text/plain": [
       "(120000, 1080000)"
      ]
     },
     "execution_count": 11,
     "metadata": {},
     "output_type": "execute_result"
    }
   ],
   "source": [
    "len(training_data), len(validation_data)"
   ]
  },
  {
   "cell_type": "markdown",
   "metadata": {},
   "source": [
    "### Simple logistic regression forest from `sklearn` training\n",
    "\n",
    "train multiclassification model"
   ]
  },
  {
   "cell_type": "code",
   "execution_count": 12,
   "metadata": {
    "collapsed": true
   },
   "outputs": [],
   "source": [
    "from sklearn.linear_model import LogisticRegression\n",
    "from sklearn.model_selection import GridSearchCV"
   ]
  },
  {
   "cell_type": "code",
   "execution_count": 13,
   "metadata": {
    "collapsed": true
   },
   "outputs": [],
   "source": [
    "from sklearn.preprocessing import StandardScaler\n",
    "\n",
    "scaler = StandardScaler()\n",
    "\n",
    "X_train = scaler.fit_transform(training_data[features])"
   ]
  },
  {
   "cell_type": "code",
   "execution_count": 14,
   "metadata": {},
   "outputs": [
    {
     "name": "stdout",
     "output_type": "stream",
     "text": [
      "Fitting 3 folds for each of 2 candidates, totalling 6 fits\n"
     ]
    },
    {
     "name": "stderr",
     "output_type": "stream",
     "text": [
      "/anaconda/lib/python2.7/site-packages/sklearn/linear_model/sag.py:326: ConvergenceWarning: The max_iter was reached which means the coef_ did not converge\n",
      "  \"the coef_ did not converge\", ConvergenceWarning)\n",
      "/anaconda/lib/python2.7/site-packages/sklearn/linear_model/sag.py:326: ConvergenceWarning: The max_iter was reached which means the coef_ did not converge\n",
      "  \"the coef_ did not converge\", ConvergenceWarning)\n",
      "/anaconda/lib/python2.7/site-packages/sklearn/linear_model/sag.py:326: ConvergenceWarning: The max_iter was reached which means the coef_ did not converge\n",
      "  \"the coef_ did not converge\", ConvergenceWarning)\n",
      "/anaconda/lib/python2.7/site-packages/sklearn/linear_model/sag.py:326: ConvergenceWarning: The max_iter was reached which means the coef_ did not converge\n",
      "  \"the coef_ did not converge\", ConvergenceWarning)\n",
      "[Parallel(n_jobs=-1)]: Done   6 out of   6 | elapsed:   46.7s remaining:    0.0s\n",
      "[Parallel(n_jobs=-1)]: Done   6 out of   6 | elapsed:   46.7s finished\n"
     ]
    },
    {
     "name": "stdout",
     "output_type": "stream",
     "text": [
      "CPU times: user 27.6 s, sys: 285 ms, total: 27.8 s\n",
      "Wall time: 1min 13s\n"
     ]
    },
    {
     "name": "stderr",
     "output_type": "stream",
     "text": [
      "/anaconda/lib/python2.7/site-packages/sklearn/linear_model/sag.py:326: ConvergenceWarning: The max_iter was reached which means the coef_ did not converge\n",
      "  \"the coef_ did not converge\", ConvergenceWarning)\n"
     ]
    }
   ],
   "source": [
    "%%time\n",
    "\n",
    "clf = LogisticRegression(penalty='l2', n_jobs=-1, solver='saga', multi_class='multinomial', random_state=42)\n",
    "param_grid = {'C': [0.1, 1]}\n",
    "\n",
    "gscv = GridSearchCV(clf, param_grid, scoring='neg_log_loss', cv=3, n_jobs=-1, verbose=1)\n",
    "gscv.fit(X_train, training_data.Label)"
   ]
  },
  {
   "cell_type": "code",
   "execution_count": 15,
   "metadata": {},
   "outputs": [
    {
     "data": {
      "text/plain": [
       "{'mean_fit_time': array([ 27.65927505,  20.48001496]),\n",
       " 'mean_score_time': array([ 0.24192667,  0.16194979]),\n",
       " 'mean_test_score': array([-0.87774634, -0.87361161]),\n",
       " 'mean_train_score': array([-0.87553757, -0.87138096]),\n",
       " 'param_C': masked_array(data = [0.1 1],\n",
       "              mask = [False False],\n",
       "        fill_value = ?),\n",
       " 'params': [{'C': 0.1}, {'C': 1}],\n",
       " 'rank_test_score': array([2, 1], dtype=int32),\n",
       " 'split0_test_score': array([-0.90848259, -0.90595279]),\n",
       " 'split0_train_score': array([-0.90506437, -0.90247521]),\n",
       " 'split1_test_score': array([-0.81828495, -0.81098105]),\n",
       " 'split1_train_score': array([-0.81632204, -0.80901035]),\n",
       " 'split2_test_score': array([-0.90647142, -0.90390092]),\n",
       " 'split2_train_score': array([-0.9052263 , -0.90265731]),\n",
       " 'std_fit_time': array([ 0.0621607 ,  4.89105325]),\n",
       " 'std_score_time': array([ 0.00608489,  0.05237692]),\n",
       " 'std_test_score': array([ 0.04205356,  0.04429441]),\n",
       " 'std_train_score': array([ 0.04187175,  0.04410274])}"
      ]
     },
     "execution_count": 15,
     "metadata": {},
     "output_type": "execute_result"
    }
   ],
   "source": [
    "gscv.cv_results_"
   ]
  },
  {
   "cell_type": "markdown",
   "metadata": {},
   "source": [
    "Train best model:"
   ]
  },
  {
   "cell_type": "code",
   "execution_count": 16,
   "metadata": {},
   "outputs": [
    {
     "data": {
      "text/plain": [
       "LogisticRegression(C=1, class_weight=None, dual=False, fit_intercept=True,\n",
       "          intercept_scaling=1, max_iter=100, multi_class='multinomial',\n",
       "          n_jobs=-1, penalty='l2', random_state=None, solver='saga',\n",
       "          tol=0.0001, verbose=0, warm_start=False)"
      ]
     },
     "execution_count": 16,
     "metadata": {},
     "output_type": "execute_result"
    }
   ],
   "source": [
    "c = 1\n",
    "clf = LogisticRegression(penalty='l2', C=c, n_jobs=-1, solver='saga', multi_class='multinomial')\n",
    "clf.fit(X_train, training_data.Label)"
   ]
  },
  {
   "cell_type": "markdown",
   "metadata": {},
   "source": [
    "### Evaluate predictions on the validation sample"
   ]
  },
  {
   "cell_type": "code",
   "execution_count": 17,
   "metadata": {
    "collapsed": true
   },
   "outputs": [],
   "source": [
    "# predict each track\n",
    "X_val = scaler.fit_transform(validation_data[features])\n",
    "proba = clf.predict_proba(X_val)"
   ]
  },
  {
   "cell_type": "markdown",
   "metadata": {},
   "source": [
    "### Log loss on the cross validation sample"
   ]
  },
  {
   "cell_type": "code",
   "execution_count": 18,
   "metadata": {},
   "outputs": [
    {
     "data": {
      "text/plain": [
       "0.87079445046779702"
      ]
     },
     "execution_count": 18,
     "metadata": {},
     "output_type": "execute_result"
    }
   ],
   "source": [
    "log_loss(validation_data.Label, proba)"
   ]
  },
  {
   "cell_type": "markdown",
   "metadata": {},
   "source": [
    "## Prepare submission to kaggle"
   ]
  },
  {
   "cell_type": "code",
   "execution_count": 53,
   "metadata": {
    "collapsed": true
   },
   "outputs": [],
   "source": [
    "# predict test sample\n",
    "X_test = scaler.fit_transform(test[features])\n",
    "kaggle_proba = clf.predict_proba(X_test)\n",
    "kaggle_ids = test.ID"
   ]
  },
  {
   "cell_type": "code",
   "execution_count": 56,
   "metadata": {},
   "outputs": [
    {
     "data": {
      "text/html": [
       "<a href='baseline.csv' target='_blank'>baseline.csv</a><br>"
      ],
      "text/plain": [
       "/Users/Shir/Imperial_courses/Yandex_ML_course/kaggle_1/baseline.csv"
      ]
     },
     "execution_count": 56,
     "metadata": {},
     "output_type": "execute_result"
    }
   ],
   "source": [
    "from IPython.display import FileLink\n",
    "\n",
    "def create_solution(ids, proba, names, filename='baseline.csv'):\n",
    "    \"\"\"saves predictions to file and provides a link for downloading \"\"\"\n",
    "    solution = pd.DataFrame({'ID': ids})\n",
    "    \n",
    "    for name in ['Ghost', 'Electron', 'Muon', 'Pion', 'Kaon', 'Proton']:\n",
    "        solution[name] = proba[:, np.where(names == name)[0]]\n",
    "    \n",
    "    solution.to_csv('{}'.format(filename), index=False)\n",
    "    return FileLink('{}'.format(filename))\n",
    "    \n",
    "create_solution(kaggle_ids, kaggle_proba, clf.classes_)"
   ]
  },
  {
   "cell_type": "code",
   "execution_count": null,
   "metadata": {
    "collapsed": true
   },
   "outputs": [],
   "source": []
  }
 ],
 "metadata": {
  "kernelspec": {
   "display_name": "Python 2",
   "language": "python",
   "name": "python2"
  },
  "language_info": {
   "codemirror_mode": {
    "name": "ipython",
    "version": 2
   },
   "file_extension": ".py",
   "mimetype": "text/x-python",
   "name": "python",
   "nbconvert_exporter": "python",
   "pygments_lexer": "ipython2",
   "version": "2.7.13"
  }
 },
 "nbformat": 4,
 "nbformat_minor": 1
}
