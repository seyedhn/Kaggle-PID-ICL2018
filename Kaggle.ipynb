{
 "cells": [
  {
   "cell_type": "code",
   "execution_count": 1,
   "metadata": {
    "collapsed": true
   },
   "outputs": [],
   "source": [
    "import pandas as pd\n",
    "import numpy as np\n",
    "from sklearn.model_selection import train_test_split\n",
    "from sklearn.metrics import log_loss\n",
    "#from sklearn.ensemble import RandomForestClassifier, ExtraTreesClassifier\n",
    "from sklearn.metrics import accuracy_score\n",
    "#from sklearn.tree import DecisionTreeClassifier\n",
    "#from sklearn.neighbors import NearestNeighbors, KNeighborsClassifier\n",
    "#from sklearn.linear_model import LogisticRegression\n",
    "#from sklearn.model_selection import GridSearchCV\n",
    "from sklearn.preprocessing import StandardScaler\n",
    "from xgboost import XGBClassifier\n",
    "#from xgboost import plot_importance\n",
    "#from matplotlib import pyplot\n",
    "scaler = StandardScaler()"
   ]
  },
  {
   "cell_type": "code",
   "execution_count": 2,
   "metadata": {
    "collapsed": true
   },
   "outputs": [],
   "source": [
    "data = pd.read_csv('training.csv')\n",
    "test = pd.read_csv('test.csv')"
   ]
  },
  {
   "cell_type": "code",
   "execution_count": null,
   "metadata": {
    "collapsed": true
   },
   "outputs": [],
   "source": [
    "ss = data.isin([-999.0])\n",
    "s = ss.apply(pd.Series.value_counts, axis=1)\n",
    "data2 = data[(s[True] < 23)  | (s[True].isna())]"
   ]
  },
  {
   "cell_type": "code",
   "execution_count": 6,
   "metadata": {},
   "outputs": [
    {
     "data": {
      "text/plain": [
       "(1186609, 50)"
      ]
     },
     "execution_count": 6,
     "metadata": {},
     "output_type": "execute_result"
    }
   ],
   "source": [
    "data2.shape"
   ]
  },
  {
   "cell_type": "code",
   "execution_count": 49,
   "metadata": {},
   "outputs": [
    {
     "data": {
      "text/plain": [
       "(120000, 120000)"
      ]
     },
     "execution_count": 49,
     "metadata": {},
     "output_type": "execute_result"
    }
   ],
   "source": [
    "training_data, validation_data = train_test_split(data, random_state=11, train_size=0.1, test_size=0.1)\n",
    "len(training_data), len(validation_data)"
   ]
  },
  {
   "cell_type": "code",
   "execution_count": 4,
   "metadata": {
    "collapsed": true
   },
   "outputs": [],
   "source": [
    "features = list(set(data.columns) - {'Label'})"
   ]
  },
  {
   "cell_type": "code",
   "execution_count": null,
   "metadata": {
    "collapsed": true
   },
   "outputs": [],
   "source": [
    "X_train = scaler.fit_transform(training_data[features])\n",
    "X_val = scaler.fit_transform(validation_data[features])\n",
    "X_train.shape"
   ]
  },
  {
   "cell_type": "code",
   "execution_count": 54,
   "metadata": {},
   "outputs": [
    {
     "name": "stdout",
     "output_type": "stream",
     "text": [
      "CPU times: user 1min 25s, sys: 301 ms, total: 1min 25s\n",
      "Wall time: 1min 26s\n"
     ]
    }
   ],
   "source": [
    "%%time\n",
    "clf = XGBClassifier(max_depth= 3, n_estimators = 70, learning_rate = 1.15,\n",
    "                    min_child_weight= 1, subsample=1, nthread=-1, silent=False)\n",
    "clf.fit(X_train, training_data.Label, verbose=True)"
   ]
  },
  {
   "cell_type": "code",
   "execution_count": 55,
   "metadata": {},
   "outputs": [
    {
     "name": "stdout",
     "output_type": "stream",
     "text": [
      "0.680351456101\n"
     ]
    }
   ],
   "source": [
    "proba = clf.predict_proba(X_val)\n",
    "print(log_loss(validation_data.Label, proba))"
   ]
  },
  {
   "cell_type": "code",
   "execution_count": 24,
   "metadata": {},
   "outputs": [
    {
     "data": {
      "image/png": "[encoded data removed]",
      "text/plain": [
       "<matplotlib.figure.Figure at 0x1f1f408d0>"
      ]
     },
     "metadata": {},
     "output_type": "display_data"
    }
   ],
   "source": [
    "plot_importance(clf)\n",
    "pyplot.show()"
   ]
  },
  {
   "cell_type": "code",
   "execution_count": 31,
   "metadata": {},
   "outputs": [
    {
     "name": "stdout",
     "output_type": "stream",
     "text": [
      "[44  9  8  7 42 33 11 31  3 29  1 13 32 40 30 46 39 37 34 15 19 12 26 43  2\n",
      " 21  0 41 18 38 24 16 23  4 48 28 47 25 27 10 14 35  5 22 17 45 20 36  6]\n"
     ]
    }
   ],
   "source": [
    "print(np.argsort(clf.feature_importances_)[::-1])"
   ]
  },
  {
   "cell_type": "code",
   "execution_count": 28,
   "metadata": {},
   "outputs": [
    {
     "name": "stdout",
     "output_type": "stream",
     "text": [
      "[ 0.0166551   0.03226926  0.01804303  0.03261624  0.00936849  0.00520472\n",
      "  0.00277585  0.04510757  0.05170021  0.05863983  0.00589868  0.03955586\n",
      "  0.01943095  0.03088133  0.00589868  0.02116586  0.01214434  0.00451076\n",
      "  0.01387925  0.02081888  0.00381679  0.0166551   0.00485774  0.01214434\n",
      "  0.01318529  0.00589868  0.01908397  0.00589868  0.00693963  0.03261624\n",
      "  0.02602359  0.03504511  0.02845246  0.0426787   0.02324774  0.0055517\n",
      "  0.00346981  0.02359473  0.01387925  0.02359473  0.02602359  0.01422623\n",
      "  0.04302568  0.01908397  0.06245663  0.00416378  0.02428869  0.00624566\n",
      "  0.00728661]\n"
     ]
    }
   ],
   "source": [
    "print(clf.feature_importances_)"
   ]
  },
  {
   "cell_type": "code",
   "execution_count": 37,
   "metadata": {},
   "outputs": [
    {
     "data": {
      "text/plain": [
       "'EcalDLLbeElectron'"
      ]
     },
     "execution_count": 37,
     "metadata": {},
     "output_type": "execute_result"
    }
   ],
   "source": [
    "data.iloc[:,6].name"
   ]
  },
  {
   "cell_type": "code",
   "execution_count": null,
   "metadata": {
    "collapsed": true
   },
   "outputs": [],
   "source": []
  },
  {
   "cell_type": "code",
   "execution_count": null,
   "metadata": {
    "collapsed": true
   },
   "outputs": [],
   "source": []
  },
  {
   "cell_type": "code",
   "execution_count": null,
   "metadata": {
    "collapsed": true
   },
   "outputs": [],
   "source": []
  },
  {
   "cell_type": "code",
   "execution_count": null,
   "metadata": {
    "collapsed": true
   },
   "outputs": [],
   "source": []
  },
  {
   "cell_type": "code",
   "execution_count": 9,
   "metadata": {
    "collapsed": true
   },
   "outputs": [],
   "source": [
    "from sklearn.datasets import make_classification\n",
    "import numpy as np\n",
    "import matplotlib.pyplot as plt"
   ]
  },
  {
   "cell_type": "code",
   "execution_count": 14,
   "metadata": {},
   "outputs": [
    {
     "name": "stdout",
     "output_type": "stream",
     "text": [
      "Feature ranking:\n",
      "1. feature 8 (0.101581)\n",
      "2. feature 7 (0.091128)\n",
      "3. feature 31 (0.057402)\n",
      "4. feature 33 (0.055728)\n",
      "5. feature 27 (0.054409)\n",
      "6. feature 42 (0.048260)\n",
      "7. feature 29 (0.039828)\n",
      "8. feature 1 (0.038477)\n",
      "9. feature 3 (0.037697)\n",
      "10. feature 23 (0.036589)\n",
      "11. feature 13 (0.036582)\n",
      "12. feature 44 (0.032966)\n",
      "13. feature 43 (0.031682)\n",
      "14. feature 32 (0.030443)\n",
      "15. feature 16 (0.030213)\n",
      "16. feature 28 (0.026587)\n",
      "17. feature 40 (0.025817)\n",
      "18. feature 30 (0.020975)\n",
      "19. feature 9 (0.020906)\n",
      "20. feature 18 (0.016858)\n",
      "21. feature 19 (0.014939)\n",
      "22. feature 11 (0.013676)\n",
      "23. feature 34 (0.012709)\n",
      "24. feature 24 (0.011491)\n",
      "25. feature 37 (0.010565)\n",
      "26. feature 46 (0.010467)\n",
      "27. feature 39 (0.009796)\n",
      "28. feature 41 (0.009243)\n",
      "29. feature 15 (0.008854)\n",
      "30. feature 26 (0.008073)\n",
      "31. feature 38 (0.007533)\n",
      "32. feature 21 (0.007326)\n",
      "33. feature 12 (0.007018)\n",
      "34. feature 2 (0.006350)\n",
      "35. feature 0 (0.006108)\n",
      "36. feature 22 (0.004500)\n",
      "37. feature 48 (0.002261)\n",
      "38. feature 25 (0.002192)\n",
      "39. feature 10 (0.002162)\n",
      "40. feature 47 (0.001985)\n",
      "41. feature 17 (0.001419)\n",
      "42. feature 6 (0.001419)\n",
      "43. feature 5 (0.001278)\n",
      "44. feature 4 (0.001257)\n",
      "45. feature 14 (0.001052)\n",
      "46. feature 35 (0.000680)\n",
      "47. feature 20 (0.000679)\n",
      "48. feature 45 (0.000474)\n",
      "49. feature 36 (0.000367)\n"
     ]
    }
   ],
   "source": [
    "importances = clf.feature_importances_\n",
    "std = np.std([tree.feature_importances_ for tree in clf.estimators_],\n",
    "             axis=0)\n",
    "indices = np.argsort(importances)[::-1]\n",
    "\n",
    "# Print the feature ranking\n",
    "print(\"Feature ranking:\")\n",
    "\n",
    "for f in range(len(features)):\n",
    "    print(\"%d. feature %d (%f)\" % (f + 1, indices[f], importances[indices[f]]))\n",
    "\n"
   ]
  },
  {
   "cell_type": "code",
   "execution_count": 5,
   "metadata": {},
   "outputs": [
    {
     "data": {
      "text/plain": [
       "(1200000, 49)"
      ]
     },
     "execution_count": 5,
     "metadata": {},
     "output_type": "execute_result"
    }
   ],
   "source": [
    "X_train = scaler.fit_transform(data[features])\n",
    "X_train.shape"
   ]
  },
  {
   "cell_type": "code",
   "execution_count": null,
   "metadata": {},
   "outputs": [],
   "source": [
    "%%time\n",
    "clf = XGBClassifier(max_depth= 3, n_estimators = 2000, learning_rate = 0.04,\n",
    "                    min_child_weight= 1, subsample=1, nthread=-1, silent=False)\n",
    "clf.fit(X_train, data.Label, verbose=True)"
   ]
  },
  {
   "cell_type": "code",
   "execution_count": null,
   "metadata": {
    "collapsed": true
   },
   "outputs": [],
   "source": []
  },
  {
   "cell_type": "code",
   "execution_count": null,
   "metadata": {
    "collapsed": true
   },
   "outputs": [],
   "source": [
    "%%time\n",
    "# predict test sample\n",
    "X_test = scaler.fit_transform(test[features])\n",
    "kaggle_proba = clf.predict_proba(X_test)\n",
    "kaggle_ids = test.ID"
   ]
  },
  {
   "cell_type": "code",
   "execution_count": null,
   "metadata": {
    "collapsed": true
   },
   "outputs": [],
   "source": [
    "from IPython.display import FileLink\n",
    "\n",
    "def create_solution(ids, proba, names, filename='baseline.csv'):\n",
    "    \"\"\"saves predictions to file and provides a link for downloading \"\"\"\n",
    "    solution = pd.DataFrame({'ID': ids})\n",
    "    \n",
    "    for name in ['Ghost', 'Electron', 'Muon', 'Pion', 'Kaon', 'Proton']:\n",
    "        solution[name] = proba[:, np.where(names == name)[0]]\n",
    "    \n",
    "    solution.to_csv('{}'.format(filename), index=False)\n",
    "    return FileLink('{}'.format(filename))\n",
    "    \n",
    "create_solution(kaggle_ids, kaggle_proba, clf.classes_)"
   ]
  }
 ],
 "metadata": {
  "kernelspec": {
   "display_name": "Python 2",
   "language": "python",
   "name": "python2"
  },
  "language_info": {
   "codemirror_mode": {
    "name": "ipython",
    "version": 2
   },
   "file_extension": ".py",
   "mimetype": "text/x-python",
   "name": "python",
   "nbconvert_exporter": "python",
   "pygments_lexer": "ipython2",
   "version": "2.7.13"
  }
 },
 "nbformat": 4,
 "nbformat_minor": 2
}
